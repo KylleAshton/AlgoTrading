{
 "cells": [
  {
   "cell_type": "code",
   "execution_count": null,
   "id": "35c7545d",
   "metadata": {},
   "outputs": [],
   "source": [
    "import requests\n",
    "import json\n",
    "import math\n",
    "import datetime\n",
    "import time\n",
    "import os\n",
    "import pandas as pd\n",
    "\n",
    "\n",
    "##### How to use: in the command line type coinprice(symbol,start_date,day_range) , but with your values for each arguement\n",
    "    #3 see below for what the arguments are\n",
    "\n",
    "def coinprice(symbol,start_date,day_range): #symbol is coin ticker, all caps entered between quotes: Example -'ADA'\n",
    "                                            #start date format is month/day/year in quaotes: Example -'03/20/2019' \n",
    "                                        #day range,I recommended use only multiples of 10 days: Example 180 days is 6 months\n",
    "            \n",
    "    t0 = int(pd.to_datetime(start_date).timestamp()*1e3) ## convert date and time to unix for... \n",
    "                                                        # ...data start range, way easier to work with\n",
    "\n",
    "    coin_price = [] # allocate space for empty list for coin prices to populate \n",
    "    dates = [] # allocate space for empty list for dates to populate \n",
    "    \n",
    "    for i in range(int(day_range/10)): #for loop gets data in 10 day chunks, hence divide day range by 10\n",
    "        \n",
    "        para = {'symbol':symbol+'USDT', #create api payload with coin name/usd pairing \n",
    "                'interval':'15m',    # use 15 minute price intervals\n",
    "                'startTime':int(t0), # start time\n",
    "                'endTime':int(t0 + 8640000*1e3), # endtime\n",
    "                'limit':960}  # number of data points (960 fifteen minute chunks equals 10 full days)\n",
    "\n",
    "        price_info = requests.get('https://api.binance.com/api/v3/klines',params=para).json() # make the api call for data\n",
    "        t0 +=864000*1e3 # add 10 days each iteration of i\n",
    "        \n",
    "        for j in range(960): # this for loop populates empty list with coin price and  corresponding dates\n",
    "            coin_price.append(price_info[j][3])\n",
    "            dates.append(price_info[j][0])    \n",
    "\n",
    "\n",
    "\n",
    "\n",
    "    df = pd.DataFrame(list(zip(dates, coin_price)), #combine all data into dataframe\n",
    "                   columns =['date', 'price'])\n",
    "    \n",
    "    df['price'] = pd.to_numeric(df['price'], downcast=\"float\") #convert prices to numeric values\n",
    "    df['date'] = pd.to_datetime(df['date'],unit='ms') #convert date to readable date\n",
    "    df.date = df[\"date\"].dt.strftime(\"%m/%d/%y\") #pick date format\n",
    "    \n",
    "    \n",
    "    cwd = os.getcwd()\n",
    "    name = symbol+ 'PriceInfo'\n",
    "    df.to_csv(name + '.csv', sep=',',index=False)\n",
    "    \n",
    "    print('your price data can be found in ' + str(cwd)+', its named '+name+'.csv')\n",
    "    return df\n"
   ]
  }
 ],
 "metadata": {
  "kernelspec": {
   "display_name": "Python 3 (ipykernel)",
   "language": "python",
   "name": "python3"
  },
  "language_info": {
   "codemirror_mode": {
    "name": "ipython",
    "version": 3
   },
   "file_extension": ".py",
   "mimetype": "text/x-python",
   "name": "python",
   "nbconvert_exporter": "python",
   "pygments_lexer": "ipython3",
   "version": "3.9.7"
  }
 },
 "nbformat": 4,
 "nbformat_minor": 5
}
